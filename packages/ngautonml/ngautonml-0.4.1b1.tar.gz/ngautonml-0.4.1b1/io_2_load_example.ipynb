{
 "cells": [
  {
   "cell_type": "code",
   "execution_count": null,
   "id": "a57beea2",
   "metadata": {},
   "outputs": [],
   "source": [
    "import sys\n",
    "sys.version"
   ]
  },
  {
   "cell_type": "markdown",
   "id": "35cd1939-eac5-42cc-ac0c-20af73c9cc53",
   "metadata": {},
   "source": [
    "## Load a saved pipeline"
   ]
  },
  {
   "cell_type": "code",
   "execution_count": null,
   "id": "b294e91d",
   "metadata": {},
   "outputs": [],
   "source": [
    "import logging\n",
    "from pathlib import Path\n",
    "import warnings\n",
    "\n",
    "import numpy as np\n",
    "import pandas as pd\n",
    "\n",
    "from ngautonml.algorithms.impl.algorithm_auto import AlgorithmCatalogAuto\n",
    "from ngautonml.executor.executor_kind import ExecutorKind\n",
    "from ngautonml.instantiator.instantiator_factory import InstantiatorFactory\n",
    "from ngautonml.instantiator.json_loader import JsonLoader\n",
    "from ngautonml.problem_def.problem_def import ProblemDefinition\n",
    "from ngautonml.wrangler.wrangler import Wrangler\n",
    "from ngautonml.wrangler.dataset import DatasetKeys\n",
    "\n",
    "logging.basicConfig(level=logging.ERROR)\n",
    "warnings.filterwarnings(\"ignore\", category=DeprecationWarning)\n",
    "warnings.filterwarnings(\"ignore\", category=UserWarning)\n",
    "\n",
    "try:\n",
    "    dirpath = str(Path(__file__).parent)\n",
    "except NameError:\n",
    "    dirpath = str('.')"
   ]
  },
  {
   "cell_type": "markdown",
   "id": "bbc508eb-b9b3-4d4e-9f1e-d5a1d4333481",
   "metadata": {},
   "source": [
    "<h2>Problem Definition</h2>\n",
    "\n",
    "All values are case-independent. The data format is `json`.\n",
    "\n",
    "We currently output predictions, trained models, and instantiations to memory, or to disk in our JSON format."
   ]
  },
  {
   "cell_type": "code",
   "execution_count": null,
   "id": "8ca64aa6",
   "metadata": {},
   "outputs": [],
   "source": [
    "problem_definition = ProblemDefinition(\n",
    "'{'\n",
    "'    \"_comments\" : ['\n",
    "'        \"A json file fully encapsulating the problem definition for openml dataset #31.\",'\n",
    "'        \"This dataset is a tabular binary classification problem.\",'\n",
    "'        \"People are classified as good or bad credit risks based on attributes.\"'\n",
    "'    ],'\n",
    "'    \"dataset\" : {'\n",
    "'        \"config\" : \"local\",'\n",
    "f'        \"test_path\": \"{dirpath}/examples/classification/credit-test.csv\",'\n",
    "f'        \"train_path\" : \"{dirpath}/examples/classification/credit-train.csv\",'\n",
    "'        \"column_roles\": {'\n",
    "'            \"target\": {'\n",
    "'                \"name\": \"class\"'\n",
    "'            }'\n",
    "'        }'\n",
    "'    },'\n",
    "'    \"problem_type\" : {'\n",
    "'        \"data_type\": \"TABULAR\",'\n",
    "'        \"task\": \"BINARY_CLASSIFICATION\"'\n",
    "'    },'\n",
    "'    \"metrics\" :  {'\n",
    "'        \"accuracy_score\": {},'\n",
    "'        \"roc_auc_score\": {}'\n",
    "'    },'\n",
    "'    \"output\" : {'\n",
    "f'       \"path\" : \"{dirpath}/output/classification/credit-output\",'\n",
    "'            \"instantiations\": ['\n",
    "'                \"JSON\"'\n",
    "'            ]'\n",
    "'     },'\n",
    "'     \"hyperparams\": ['\n",
    "'        \"disable_grid_search\"'\n",
    "'     ]'\n",
    "'}'\n",
    ")"
   ]
  },
  {
   "cell_type": "markdown",
   "id": "470e24dc-ea27-4550-8810-3edc8302418f",
   "metadata": {},
   "source": [
    "## "
   ]
  },
  {
   "cell_type": "markdown",
   "id": "cf5299c4-d97f-4aa4-bb14-fcc198473606",
   "metadata": {},
   "source": [
    "## Minimal example: the Wrangler\n",
    "The `wrangler` puts all the pieces together. In this example, we allow all components to default.\n",
    "\n",
    "We load one saved pipeline, run it against the test data, and test it will all configured metrics."
   ]
  },
  {
   "cell_type": "code",
   "execution_count": null,
   "id": "a8514d8e-dd12-4190-8ee4-97cea79ddf81",
   "metadata": {},
   "outputs": [],
   "source": [
    "wrangler = Wrangler(\n",
    "    problem_definition=problem_definition,\n",
    ")\n",
    "\n",
    "pipeline_file = Path(f\"{dirpath}/output/classification/credit-output/pipelines/tabular_classification@sklearn.naive_bayes.multinomialnb.json\")\n",
    "\n",
    "loader = JsonLoader(\n",
    "        saver_version='1.0',\n",
    "        algorithm_catalog=AlgorithmCatalogAuto(),\n",
    "        pipeline_file=pipeline_file,\n",
    "        load_models=True)\n",
    "\n",
    "bound_pipeline = loader.pipeline\n",
    "\n",
    "instantiator = InstantiatorFactory().build(kind=ExecutorKind('simple'))\n",
    "\n",
    "pipelines = {bound_pipeline.designator: instantiator.instantiate(bound_pipeline)}\n",
    "\n",
    "test_data = pd.read_csv(f'{dirpath}/examples/classification/credit-test.csv')\n",
    "\n",
    "test_dataset = wrangler.dataset(data=test_data.drop(labels=['class'], axis=1))\n",
    "\n",
    "test_predictions = wrangler.predict(new_data=test_dataset, trained_pipelines=pipelines)\n",
    "\n",
    "rankings = wrangler.rank(results=test_predictions)\n",
    "\n",
    "summary = 'Test rankings are:\\n'\n",
    "for rank in rankings:\n",
    "    summary = f'{summary} {rank}\\n'\n",
    "print(summary)\n"
   ]
  },
  {
   "cell_type": "code",
   "execution_count": null,
   "id": "fbf0033b-77c6-4f51-9eed-6ee8854934cf",
   "metadata": {},
   "outputs": [],
   "source": []
  }
 ],
 "metadata": {
  "celltoolbar": "Raw Cell Format",
  "kernelspec": {
   "display_name": "Python 3 (ipykernel)",
   "language": "python",
   "name": "python3"
  },
  "language_info": {
   "codemirror_mode": {
    "name": "ipython",
    "version": 3
   },
   "file_extension": ".py",
   "mimetype": "text/x-python",
   "name": "python",
   "nbconvert_exporter": "python",
   "pygments_lexer": "ipython3",
   "version": "3.9.17"
  },
  "vscode": {
   "interpreter": {
    "hash": "ae537c7bad7a286962624bb706685d70455be40ce63f4435480ecca55813e257"
   }
  }
 },
 "nbformat": 4,
 "nbformat_minor": 5
}
