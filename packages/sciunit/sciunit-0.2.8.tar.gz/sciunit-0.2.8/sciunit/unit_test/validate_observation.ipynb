{
 "cells": [
  {
   "cell_type": "code",
   "execution_count": 1,
   "metadata": {},
   "outputs": [],
   "source": [
    "import quantities as pq\n",
    "import sciunit\n",
    "from sciunit.errors import ObservationError"
   ]
  },
  {
   "cell_type": "code",
   "execution_count": 2,
   "metadata": {},
   "outputs": [],
   "source": [
    "class MyTest(sciunit.Test):\n",
    "    observation_schema = {'mean': {'type': 'float'}, \n",
    "                          'std': {'type': 'float'}}"
   ]
  },
  {
   "cell_type": "code",
   "execution_count": 3,
   "metadata": {},
   "outputs": [],
   "source": [
    "test = MyTest({'mean': 3.1, 'std': 1.4}) # Correctly formatted observation"
   ]
  },
  {
   "cell_type": "code",
   "execution_count": 4,
   "metadata": {},
   "outputs": [
    {
     "name": "stdout",
     "output_type": "stream",
     "text": [
      "{'observation': [{'std': ['must be of float type']}]}\n"
     ]
    }
   ],
   "source": [
    "try:\n",
    "    test = MyTest({'mean': 3.1, 'std': '1.4'}) # Incorrectly formatted; note string value for 'std' key\n",
    "except ObservationError as e:\n",
    "    print(e)"
   ]
  },
  {
   "cell_type": "code",
   "execution_count": 5,
   "metadata": {},
   "outputs": [],
   "source": [
    "class QuantityTest(sciunit.Test):\n",
    "    observation_schema = {'mean': {'type': 'quantity'},\n",
    "                          'std': {'type': 'quantity'}}"
   ]
  },
  {
   "cell_type": "code",
   "execution_count": 6,
   "metadata": {},
   "outputs": [],
   "source": [
    "test = QuantityTest({'mean': 3.1*pq.V, 'std': 1.4*pq.V}) # Correctly formatted observation"
   ]
  },
  {
   "cell_type": "code",
   "execution_count": 7,
   "metadata": {},
   "outputs": [
    {
     "name": "stdout",
     "output_type": "stream",
     "text": [
      "{'observation': [{'mean': ['must be of quantity type']}]}\n"
     ]
    }
   ],
   "source": [
    "try:\n",
    "    test = QuantityTest({'mean': 3.1, 'std': 1.4*pq.V}) # Incorrectly formatted; no quantity for 'mean' key\n",
    "except ObservationError as e:\n",
    "    print(e)"
   ]
  },
  {
   "cell_type": "code",
   "execution_count": 8,
   "metadata": {},
   "outputs": [],
   "source": [
    "test = QuantityTest({'mean': 3.1*pq.mV, 'std': 1.4*pq.mV}) # Correctly formatted observation"
   ]
  },
  {
   "cell_type": "code",
   "execution_count": 9,
   "metadata": {},
   "outputs": [],
   "source": [
    "class QuantityTest2(sciunit.Test):\n",
    "    observation_schema = {'mean': {'units': True, 'required': True},\n",
    "                          'std': {'units': True, 'min':0, 'required': True},\n",
    "                          'n': {'type': 'integer', 'min': 1}}\n",
    "    units = pq.V"
   ]
  },
  {
   "cell_type": "code",
   "execution_count": 10,
   "metadata": {},
   "outputs": [],
   "source": [
    "test = QuantityTest2({'mean': 3.1*pq.mV, 'std': 1.4*pq.mV}) # Sould validate"
   ]
  },
  {
   "cell_type": "code",
   "execution_count": 11,
   "metadata": {},
   "outputs": [
    {
     "name": "stdout",
     "output_type": "stream",
     "text": [
      "{'observation': [{'sd': [\"Must have units of 'volt'\"]}]}\n"
     ]
    }
   ],
   "source": [
    "try:\n",
    "    test = QuantityTest2({'mean': 3.1*pq.mV, 'std': 1.4*pq.ms}) # Incorrect units for 'std' key\n",
    "except ObservationError as e:\n",
    "    print(e)"
   ]
  }
 ],
 "metadata": {
  "kernelspec": {
   "display_name": "Python 3",
   "language": "python",
   "name": "python3"
  },
  "language_info": {
   "codemirror_mode": {
    "name": "ipython",
    "version": 3
   },
   "file_extension": ".py",
   "mimetype": "text/x-python",
   "name": "python",
   "nbconvert_exporter": "python",
   "pygments_lexer": "ipython3",
   "version": "3.5.2"
  }
 },
 "nbformat": 4,
 "nbformat_minor": 2
}
