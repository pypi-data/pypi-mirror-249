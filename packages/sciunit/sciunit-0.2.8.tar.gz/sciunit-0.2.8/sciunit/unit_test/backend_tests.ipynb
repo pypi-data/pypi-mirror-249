{
 "cells": [
  {
   "cell_type": "code",
   "execution_count": 1,
   "metadata": {},
   "outputs": [],
   "source": [
    "import sciunit\n",
    "from sciunit.models.backends import Backend\n",
    "from sciunit.capabilities import Runnable\n",
    "from sciunit.errors import CapabilityNotImplementedError"
   ]
  },
  {
   "cell_type": "code",
   "execution_count": 2,
   "metadata": {},
   "outputs": [],
   "source": [
    "class MyModel(sciunit.Model, Runnable):\n",
    "    pass"
   ]
  },
  {
   "cell_type": "code",
   "execution_count": 3,
   "metadata": {},
   "outputs": [],
   "source": [
    "m = MyModel()"
   ]
  },
  {
   "cell_type": "code",
   "execution_count": 4,
   "metadata": {},
   "outputs": [
    {
     "name": "stdout",
     "output_type": "stream",
     "text": [
      "MyModel <class 'sciunit.capabilities.Runnable'>\n"
     ]
    }
   ],
   "source": [
    "try:\n",
    "    m.run()\n",
    "except CapabilityNotImplementedError:\n",
    "    pass\n",
    "else:\n",
    "    raise Exception(\"This should have been an error!!!!\")"
   ]
  },
  {
   "cell_type": "code",
   "execution_count": 5,
   "metadata": {},
   "outputs": [],
   "source": [
    "class MyModel(sciunit.models.RunnableModel):\n",
    "    def run(self, a, b=5):\n",
    "        pass\n",
    "        \n",
    "m = MyModel(name='My Model')"
   ]
  },
  {
   "cell_type": "code",
   "execution_count": 6,
   "metadata": {},
   "outputs": [],
   "source": [
    "m = sciunit.models.RunnableModel(name='smith', backend=None)"
   ]
  },
  {
   "cell_type": "code",
   "execution_count": 7,
   "metadata": {},
   "outputs": [],
   "source": [
    "m = sciunit.models.RunnableModel(name='jones', backend='')"
   ]
  },
  {
   "cell_type": "code",
   "execution_count": 8,
   "metadata": {},
   "outputs": [],
   "source": [
    "def run(self, **kwargs):\n",
    "    print('running')\n",
    "\n",
    "from types import MethodType\n",
    "m.run = MethodType(run, m)"
   ]
  },
  {
   "cell_type": "code",
   "execution_count": 9,
   "metadata": {},
   "outputs": [
    {
     "name": "stdout",
     "output_type": "stream",
     "text": [
      "running\n"
     ]
    }
   ],
   "source": [
    "m.run()"
   ]
  },
  {
   "cell_type": "code",
   "execution_count": 10,
   "metadata": {},
   "outputs": [
    {
     "name": "stdout",
     "output_type": "stream",
     "text": [
      "running\n"
     ]
    }
   ],
   "source": [
    "try:\n",
    "    m.run()\n",
    "except NotImplementedError:\n",
    "    raise Exception(\"Implementation failed\")"
   ]
  }
 ],
 "metadata": {
  "kernelspec": {
   "display_name": "Python 3",
   "language": "python",
   "name": "python3"
  },
  "language_info": {
   "codemirror_mode": {
    "name": "ipython",
    "version": 3
   },
   "file_extension": ".py",
   "mimetype": "text/x-python",
   "name": "python",
   "nbconvert_exporter": "python",
   "pygments_lexer": "ipython3",
   "version": "3.7.4"
  }
 },
 "nbformat": 4,
 "nbformat_minor": 4
}
