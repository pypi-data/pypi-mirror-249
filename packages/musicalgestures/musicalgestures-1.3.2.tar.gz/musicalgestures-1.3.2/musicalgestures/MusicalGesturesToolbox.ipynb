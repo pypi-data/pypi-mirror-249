{
 "cells": [
  {
   "cell_type": "markdown",
   "metadata": {
    "id": "rZUHvpM6r3NP"
   },
   "source": [
    "# Musical Gestures Toolbox for Python - Tutorial"
   ]
  },
  {
   "cell_type": "markdown",
   "metadata": {
    "id": "NXc_vEmar3NS"
   },
   "source": [
    "This tutorial serves two purposes. It can be run on its own either locally or on Google Colab. It is also the source document for a slide deck that is used in presentation mode."
   ]
  },
  {
   "cell_type": "markdown",
   "metadata": {
    "id": "3DphH7dyr3NS"
   },
   "source": [
    "## Introduction"
   ]
  },
  {
   "cell_type": "markdown",
   "metadata": {
    "id": "Et7u8HLIr3NT"
   },
   "source": [
    "The Musical Gestures Toolbox for Python is a collection of tools for video visualization and video analysis. It also has some modules for audio analysis and will be developed to include integration with motion capture and sensor data. The tools are developed for video material shot with a camera placed on a tripod and with a stable background and lighting.\n",
    "\n",
    "This tutorial will go through some of the core parts of the toolbox. Please refer to the [wiki documentation](https://github.com/fourMs/MGT-python/wiki) for details."
   ]
  },
  {
   "cell_type": "markdown",
   "metadata": {
    "id": "jhtHnE-pr3NT"
   },
   "source": [
    "### About"
   ]
  },
  {
   "cell_type": "markdown",
   "metadata": {
    "id": "AuzyG6UKr3NU"
   },
   "source": [
    "The toolbox builds on the [Musical Gestures Toolbox for Matlab](https://github.com/fourMs/MGT-matlab/), which again builds on the [Musical Gestures Toolbox for Max](https://www.uio.no/ritmo/english/research/labs/fourms/software/musicalgesturestoolbox/mgt-max/).\n",
    "\n",
    "We have also developed the standalone software [VideoAnalysis](https://www.uio.no/ritmo/english/research/labs/fourms/software/VideoAnalysis/index.html) for those that are not into programming."
   ]
  },
  {
   "cell_type": "markdown",
   "metadata": {
    "id": "YQPzsaKVr3NU"
   },
   "source": [
    "### Development"
   ]
  },
  {
   "cell_type": "markdown",
   "metadata": {
    "id": "bMoSEYBNr3NU"
   },
   "source": [
    "The software is developed by researchers at the [fourMs lab](https://github.com/fourMs) at [RITMO Centre for Interdisciplinary Studies in Rhythm, Time and Motion](https://www.uio.no/ritmo/english/) at the University of Oslo.\n",
    "\n",
    "Feel free to contribute to the code at [GitHub](https://github.com/fourMs/MGT-python)!\n",
    "It is also great if you can log bugs and feature requests in the [Issues](https://github.com/fourMs/MGT-python/issues) section."
   ]
  },
  {
   "cell_type": "markdown",
   "metadata": {
    "id": "s1Jaej_Zr3NV"
   },
   "source": [
    "## Setting up"
   ]
  },
  {
   "cell_type": "markdown",
   "metadata": {},
   "source": [
    "If you are using this notebook on your system, it is first required to properly install `FFmpeg`. You can find some information on how to install it on the [wiki documentation](https://github.com/fourMs/MGT-python/wiki/0-%E2%80%90-Installation). \n",
    "\n",
    "If you are on Colab, you should install a relatively new version of `FFmpeg` (again, we need a bit newer one than what comes with Colab). First we add a repository that has the newer version, and then we download and install it."
   ]
  },
  {
   "cell_type": "code",
   "execution_count": null,
   "metadata": {},
   "outputs": [],
   "source": [
    "!add-apt-repository -y ppa:jonathonf/ffmpeg-4\n",
    "!apt install --upgrade ffmpeg"
   ]
  },
  {
   "cell_type": "markdown",
   "metadata": {
    "id": "BA_95n8Ar3NV"
   },
   "source": [
    "Next, if you are using this notebook on your system, we assume that you have a functioning version of Python and Jupyter Notebook. \n",
    "\n",
    "Then, you can install the toolbox using this terminal command:  "
   ]
  },
  {
   "cell_type": "code",
   "execution_count": null,
   "metadata": {
    "id": "366oYK-Pr3NV"
   },
   "outputs": [],
   "source": [
    "!pip install musicalgestures\n",
    "\n",
    "# You can also install the last updated version of the repository\n",
    "# !git clone --branch master https://github.com/fourMs/MGT-python.git\n",
    "# # install the package in the system\n",
    "# !pip install --use-feature=fast-deps ./MGT-python"
   ]
  },
  {
   "cell_type": "markdown",
   "metadata": {
    "id": "nMP_xkTWr3NX"
   },
   "source": [
    "*NB: If you are prompted to restart the runtime, do so by clicking the button in the previous cell. This is necessary if the required version of IPython is newer than the one that is preinstalled on Colab.*"
   ]
  },
  {
   "cell_type": "markdown",
   "metadata": {
    "id": "Su6hggecr3NX"
   },
   "source": [
    "### Importing"
   ]
  },
  {
   "cell_type": "markdown",
   "metadata": {
    "id": "QqLwWWBcr3NY"
   },
   "source": [
    "In Jupyter Notebook, we start by importing the toolbox using the command `musicalgestures` and make a \"shortcut\" with the command `mg`:"
   ]
  },
  {
   "cell_type": "code",
   "execution_count": null,
   "metadata": {
    "executionInfo": {
     "elapsed": 1569,
     "status": "ok",
     "timestamp": 1696407301359,
     "user": {
      "displayName": "Joachim Poutaraud",
      "userId": "07157632167712239236"
     },
     "user_tz": -120
    },
    "id": "wca99YIhr3NY"
   },
   "outputs": [],
   "source": [
    "import musicalgestures as mg"
   ]
  },
  {
   "cell_type": "markdown",
   "metadata": {
    "id": "v_F8QmwQr3NY"
   },
   "source": [
    "To make your first steps a bit easier, we packaged a couple of example videos into `musicalgestures`. We load them into two variables:"
   ]
  },
  {
   "cell_type": "code",
   "execution_count": null,
   "metadata": {
    "executionInfo": {
     "elapsed": 275,
     "status": "ok",
     "timestamp": 1696407303577,
     "user": {
      "displayName": "Joachim Poutaraud",
      "userId": "07157632167712239236"
     },
     "user_tz": -120
    },
    "id": "sFMSf5S_r3NY"
   },
   "outputs": [],
   "source": [
    "dance = mg.examples.dance\n",
    "pianist = mg.examples.pianist"
   ]
  },
  {
   "cell_type": "markdown",
   "metadata": {
    "id": "u6X5U9n4r3NY"
   },
   "source": [
    "### Loading a video file"
   ]
  },
  {
   "cell_type": "markdown",
   "metadata": {
    "id": "9cBwuu2Mr3NZ"
   },
   "source": [
    "Now we can load one of the video files into a video object:"
   ]
  },
  {
   "cell_type": "code",
   "execution_count": null,
   "metadata": {
    "executionInfo": {
     "elapsed": 1061,
     "status": "ok",
     "timestamp": 1696407307831,
     "user": {
      "displayName": "Joachim Poutaraud",
      "userId": "07157632167712239236"
     },
     "user_tz": -120
    },
    "id": "o3YqfBqgr3NZ"
   },
   "outputs": [],
   "source": [
    "video = mg.MgVideo(dance)"
   ]
  },
  {
   "cell_type": "markdown",
   "metadata": {
    "id": "_-U-wAoRr3NZ"
   },
   "source": [
    "Now the `video` object contains a pointer to the video file and it is also \"actionable\"."
   ]
  },
  {
   "cell_type": "markdown",
   "metadata": {
    "id": "YuDcwWNnr3NZ"
   },
   "source": [
    "### Watching a video file"
   ]
  },
  {
   "cell_type": "markdown",
   "metadata": {
    "id": "wHgbh9xhr3NZ"
   },
   "source": [
    "You can watch your video with calling the `show()` method. There are two modes to choose from:\n",
    "\n",
    "1. The default `'windowed'` mode will open a video player as a separate window.\n",
    "2. The `'notebook'` mode the video is embedded into the notebook."
   ]
  },
  {
   "cell_type": "code",
   "execution_count": null,
   "metadata": {
    "colab": {
     "base_uri": "https://localhost:8080/",
     "height": 554,
     "output_embedded_package_id": "1IbrTtPsaPrD-gUxGVJUoi4_LJRYCPX0n"
    },
    "executionInfo": {
     "elapsed": 33969,
     "status": "ok",
     "timestamp": 1696407346342,
     "user": {
      "displayName": "Joachim Poutaraud",
      "userId": "07157632167712239236"
     },
     "user_tz": -120
    },
    "id": "zP-2H8Wmr3NZ",
    "outputId": "3c87cbc4-262a-4594-ed50-b8db14c5d490"
   },
   "outputs": [],
   "source": [
    "video.show() # this opens the video in a separate window"
   ]
  },
  {
   "cell_type": "code",
   "execution_count": null,
   "metadata": {},
   "outputs": [],
   "source": [
    "video.show(mode=\"notebook\") # this opens the video in the notebook"
   ]
  },
  {
   "cell_type": "markdown",
   "metadata": {
    "id": "BKJILfiir3Na"
   },
   "source": [
    "Since only mp4, webm and ogg file formats are compatible with browsers, `show` will automatically convert your video to mp4 if necessary."
   ]
  },
  {
   "cell_type": "markdown",
   "metadata": {
    "id": "AR9NDIJjr3Na"
   },
   "source": [
    "## Preprocessing modules"
   ]
  },
  {
   "cell_type": "markdown",
   "metadata": {
    "id": "1KDJoQvtr3Na"
   },
   "source": [
    "### Trimming"
   ]
  },
  {
   "cell_type": "markdown",
   "metadata": {
    "id": "QJlCpyU5r3Na"
   },
   "source": [
    "It is possible to *trim* the video, that is, select its start and end time. This is specified in the unit of seconds.\n",
    "\n",
    "This function will create the file *dance_trim.avi* in the same directory as the video file."
   ]
  },
  {
   "cell_type": "code",
   "execution_count": null,
   "metadata": {
    "colab": {
     "base_uri": "https://localhost:8080/"
    },
    "executionInfo": {
     "elapsed": 1208,
     "status": "ok",
     "timestamp": 1696407365700,
     "user": {
      "displayName": "Joachim Poutaraud",
      "userId": "07157632167712239236"
     },
     "user_tz": -120
    },
    "id": "o-Ul_Cn2r3Nf",
    "outputId": "f7809203-f23d-46e6-9300-91f4b1b4d4d6"
   },
   "outputs": [],
   "source": [
    "video = mg.MgVideo(dance, starttime=5, endtime=15)\n",
    "video.show(mode='notebook')"
   ]
  },
  {
   "cell_type": "markdown",
   "metadata": {
    "id": "wqUV8N0Br3Ng"
   },
   "source": [
    "### Skipping"
   ]
  },
  {
   "cell_type": "markdown",
   "metadata": {
    "id": "IbXj4T0or3Nh"
   },
   "source": [
    "Skipping frames in the video can reduce the analysis time. You can skip frames between every analysed frame by using the `skip` function:"
   ]
  },
  {
   "cell_type": "code",
   "execution_count": null,
   "metadata": {
    "colab": {
     "base_uri": "https://localhost:8080/",
     "height": 571
    },
    "executionInfo": {
     "elapsed": 9845,
     "status": "ok",
     "timestamp": 1696407392132,
     "user": {
      "displayName": "Joachim Poutaraud",
      "userId": "07157632167712239236"
     },
     "user_tz": -120
    },
    "id": "e5A8aEPzr3Nh",
    "outputId": "357cb63a-d054-4519-c3b3-01a00594a6d6"
   },
   "outputs": [],
   "source": [
    "video = mg.MgVideo(dance, skip=5)\n",
    "video.show(mode='notebook')"
   ]
  },
  {
   "cell_type": "markdown",
   "metadata": {
    "id": "VaA7n2a2r3Nh"
   },
   "source": [
    "This will create the file *dance_skip.avi* in the same directory. Notice how the added suffixes at the end of the file's name can inform you about the processes the material went through. If a similar file already exists, it will add an incremental number to avoid overwriting existing files."
   ]
  },
  {
   "cell_type": "markdown",
   "metadata": {
    "id": "4hgrAGVDr3Nh"
   },
   "source": [
    "### Rotating"
   ]
  },
  {
   "cell_type": "markdown",
   "metadata": {
    "id": "s2ULxL65r3Ni"
   },
   "source": [
    "Some videos are recorded slightly tilted, or with the camera mounted sideways.\n",
    "\n",
    "We can rotate the video 90 degrees with the `rotate` parameter:"
   ]
  },
  {
   "cell_type": "code",
   "execution_count": null,
   "metadata": {
    "colab": {
     "base_uri": "https://localhost:8080/",
     "height": 606
    },
    "executionInfo": {
     "elapsed": 9907,
     "status": "ok",
     "timestamp": 1696407409152,
     "user": {
      "displayName": "Joachim Poutaraud",
      "userId": "07157632167712239236"
     },
     "user_tz": -120
    },
    "id": "vSLeCCwqr3Ni",
    "outputId": "463b4510-6c89-45ae-ba21-edfbe76d7d03"
   },
   "outputs": [],
   "source": [
    "video = mg.MgVideo(dance, starttime=5, endtime=15, skip=3, rotate=90)\n",
    "video.show(mode='notebook')"
   ]
  },
  {
   "cell_type": "markdown",
   "metadata": {
    "id": "rz_54fdDr3Ni"
   },
   "source": [
    "Or with some other angle:"
   ]
  },
  {
   "cell_type": "code",
   "execution_count": null,
   "metadata": {
    "colab": {
     "base_uri": "https://localhost:8080/",
     "height": 606
    },
    "executionInfo": {
     "elapsed": 5119,
     "status": "ok",
     "timestamp": 1696407416542,
     "user": {
      "displayName": "Joachim Poutaraud",
      "userId": "07157632167712239236"
     },
     "user_tz": -120
    },
    "id": "vG3hc6FOr3Ni",
    "outputId": "24fd72e5-8618-4464-eb97-c301557bb7ec"
   },
   "outputs": [],
   "source": [
    "video = mg.MgVideo(dance, starttime=5, endtime=15, skip=3, rotate=3.3)\n",
    "video.show(mode='notebook')"
   ]
  },
  {
   "cell_type": "markdown",
   "metadata": {
    "id": "ErVXjbBlr3Nj"
   },
   "source": [
    "Again, the resulting filename *dancer_trim_skip_rot.avi* will inform us about the chain of processes *dancer.avi* went through."
   ]
  },
  {
   "cell_type": "markdown",
   "metadata": {
    "id": "Pc4dtUeKr3Nj"
   },
   "source": [
    "### Adjusting contrast and brightness"
   ]
  },
  {
   "cell_type": "markdown",
   "metadata": {
    "id": "pZraxbATr3Nj"
   },
   "source": [
    "During preprocessing you can also add (or remove) some contrast and brightness of the video:"
   ]
  },
  {
   "cell_type": "code",
   "execution_count": null,
   "metadata": {
    "colab": {
     "base_uri": "https://localhost:8080/",
     "height": 588
    },
    "executionInfo": {
     "elapsed": 6883,
     "status": "ok",
     "timestamp": 1696407430922,
     "user": {
      "displayName": "Joachim Poutaraud",
      "userId": "07157632167712239236"
     },
     "user_tz": -120
    },
    "id": "B3Aqg391r3Nk",
    "outputId": "c76b3c99-7934-4f61-c3b5-3beea9119138"
   },
   "outputs": [],
   "source": [
    "video = mg.MgVideo(dance, starttime=5, endtime=15, contrast=100, brightness=20)\n",
    "video.show(mode='notebook')"
   ]
  },
  {
   "cell_type": "markdown",
   "metadata": {
    "id": "0L74tFnpr3Nk"
   },
   "source": [
    "The resulting file is now called *dancer_trim_skip_rot_cb.avi*."
   ]
  },
  {
   "cell_type": "markdown",
   "metadata": {
    "id": "iQEQyfYvr3Nk"
   },
   "source": [
    "### Cropping"
   ]
  },
  {
   "cell_type": "markdown",
   "metadata": {
    "id": "W0gK0iI3r3Nl"
   },
   "source": [
    "You may not be interested in analysing the whole image. Then it is helpful to crop the video. This can be done manually by clicking and selecting the area to crop followed by pressing the key `c` to crop or `r` to redo the cropping:"
   ]
  },
  {
   "cell_type": "code",
   "execution_count": null,
   "metadata": {
    "colab": {
     "base_uri": "https://localhost:8080/",
     "height": 564
    },
    "executionInfo": {
     "elapsed": 37868,
     "status": "ok",
     "timestamp": 1696407475288,
     "user": {
      "displayName": "Joachim Poutaraud",
      "userId": "07157632167712239236"
     },
     "user_tz": -120
    },
    "id": "vfz5yJxJr3Nl",
    "outputId": "e1f7d01d-b0d5-4696-9416-04b7aca1ba45"
   },
   "outputs": [],
   "source": [
    "video = mg.MgVideo(dance, starttime=5, endtime=15, crop='manual')\n",
    "video.show(mode='notebook')"
   ]
  },
  {
   "cell_type": "markdown",
   "metadata": {
    "id": "eWfoNB0Wr3Nl"
   },
   "source": [
    "There is also an experimental \"auto-crop\" function that looks at where there motion in the video at uses that for cropping:"
   ]
  },
  {
   "cell_type": "code",
   "execution_count": null,
   "metadata": {
    "colab": {
     "base_uri": "https://localhost:8080/",
     "height": 578
    },
    "executionInfo": {
     "elapsed": 10200,
     "status": "ok",
     "timestamp": 1696407492904,
     "user": {
      "displayName": "Joachim Poutaraud",
      "userId": "07157632167712239236"
     },
     "user_tz": -120
    },
    "id": "IlUa7oxQr3Nl",
    "outputId": "572c27ad-746f-4475-d26e-79e7edfc5669"
   },
   "outputs": [],
   "source": [
    "video = mg.MgVideo(dance, starttime=5, endtime=15, crop='auto')\n",
    "video.show(mode='notebook')"
   ]
  },
  {
   "cell_type": "markdown",
   "metadata": {
    "id": "xjjmYf7Gr3Nm"
   },
   "source": [
    "This may or may not work well, dependent on the content of the video."
   ]
  },
  {
   "cell_type": "markdown",
   "metadata": {
    "id": "7iAd7Z-8r3Nm"
   },
   "source": [
    "### Grayscale mode"
   ]
  },
  {
   "cell_type": "markdown",
   "metadata": {
    "id": "ztvzKQPpr3Nm"
   },
   "source": [
    "If you do not need to work with colors, you may speed up the further processing considerably (3x) by converting to grayscale mode using the `color=False` command:"
   ]
  },
  {
   "cell_type": "code",
   "execution_count": null,
   "metadata": {
    "colab": {
     "base_uri": "https://localhost:8080/",
     "height": 606
    },
    "executionInfo": {
     "elapsed": 6308,
     "status": "ok",
     "timestamp": 1696407505236,
     "user": {
      "displayName": "Joachim Poutaraud",
      "userId": "07157632167712239236"
     },
     "user_tz": -120
    },
    "id": "nE3yiuLYr3Nm",
    "outputId": "d0b68723-612e-4818-a8b2-692eb3ba6155"
   },
   "outputs": [],
   "source": [
    "video = mg.MgVideo(dance, starttime=5, endtime=15, skip=3, color=False)\n",
    "video.show(mode='notebook')"
   ]
  },
  {
   "cell_type": "markdown",
   "metadata": {
    "id": "Gfzi8yiur3Nm"
   },
   "source": [
    "A color video is composed of 4 planes (Alpha, Red, Green, Blue) while a grayscale only has one. This is why the further analysis will be reduced to 1/4 in computational needs."
   ]
  },
  {
   "cell_type": "markdown",
   "metadata": {
    "id": "0BrE6uqOr3Nm"
   },
   "source": [
    "![Illustration of video matrix](../wiki_pics/digital-video.png)"
   ]
  },
  {
   "cell_type": "markdown",
   "metadata": {
    "id": "PMaQ8mtir3Nn"
   },
   "source": [
    "### Summary of preprocessing modules"
   ]
  },
  {
   "cell_type": "markdown",
   "metadata": {
    "id": "QNs8qMJ7r3Nn"
   },
   "source": [
    "These are the six preprocessing steps we have used so far:\n",
    "\n",
    "- **trim**: Trim the beginning and end of the video\n",
    "- **skip**: Skip every *n* frames to reduce processing time\n",
    "- **rotate**: Rotate the video by an angle\n",
    "- **cb**: Adjust contrast and brightness\n",
    "- **crop**: Crop out a part of the video image\n",
    "- **grayscale**: Convert the video to grayscale to reduce processing time"
   ]
  },
  {
   "cell_type": "markdown",
   "metadata": {
    "id": "-qh3HtRnr3Nn"
   },
   "source": [
    "### It's a chain"
   ]
  },
  {
   "cell_type": "markdown",
   "metadata": {
    "id": "Xcz3Nod3r3Nn"
   },
   "source": [
    "Note that the preprocessing modules work as a chain:\n",
    "\n",
    "1. load the file\n",
    "2. trim its start to 5s and its end to 15s\n",
    "3. skip 2 frames (keeping the 1st, skipping 2nd and 3rd, keeping the 4th, skipping 5th and 6th, and so on...)\n",
    "\n",
    "The resulting file of this process is *dancer_trim_skip.avi*."
   ]
  },
  {
   "cell_type": "markdown",
   "metadata": {
    "id": "3Bc6IXEVr3Nn"
   },
   "source": [
    "### Keep everything"
   ]
  },
  {
   "cell_type": "markdown",
   "metadata": {
    "id": "d8PJCs67r3No"
   },
   "source": [
    "The toolbox has been designed to store new video files for each chain.\n",
    "\n",
    "You can optionally keep the video files for each part of the chain by setting `keep_all=True`:"
   ]
  },
  {
   "cell_type": "code",
   "execution_count": null,
   "metadata": {
    "colab": {
     "base_uri": "https://localhost:8080/"
    },
    "executionInfo": {
     "elapsed": 6437,
     "status": "ok",
     "timestamp": 1696407520989,
     "user": {
      "displayName": "Joachim Poutaraud",
      "userId": "07157632167712239236"
     },
     "user_tz": -120
    },
    "id": "jfaTvoYYr3No",
    "outputId": "43d8aba0-2ce1-4977-b3c1-a06b71d6fdc8"
   },
   "outputs": [],
   "source": [
    "video = mg.MgVideo(dance, starttime=5, endtime=15, skip=3, rotate=3, contrast=100, brightness=20, crop='auto', color=False, keep_all=True)"
   ]
  },
  {
   "cell_type": "markdown",
   "metadata": {
    "id": "HefdkoAxr3No"
   },
   "source": [
    "This will output six new video files:\n",
    "- *dance_trim.avi*\n",
    "- *dance_trim_skip.avi*\n",
    "- *dance_trim_skip_rot.avi*\n",
    "- *dance_trim_skip_rot_cb.avi*\n",
    "- *dance_trim_skip_rot_cb_crop.avi*\n",
    "- *dance_trim_skip_rot_cb_crop_gray.avi*"
   ]
  },
  {
   "cell_type": "markdown",
   "metadata": {
    "id": "DTpXzp9Ir3No"
   },
   "source": [
    "## Video visualization"
   ]
  },
  {
   "cell_type": "markdown",
   "metadata": {
    "id": "-laJuUbfr3No"
   },
   "source": [
    "In the following we will take a look at several video processing functions:\n",
    "\n",
    "- `grid()`: Creates a *grid-based* image with multiple frames\n",
    "- `videograms()`: Outputs the videograms in two directions\n",
    "- `history()`: Renders a *_history* video by layering the last n frames on the current frame for each frame in the video\n",
    "- `blend(component_mode='average')`: Renders an *_average* image of all frames in the video"
   ]
  },
  {
   "cell_type": "markdown",
   "metadata": {
    "id": "Qp48vG0Tr3Np"
   },
   "source": [
    "### Grid image"
   ]
  },
  {
   "cell_type": "markdown",
   "metadata": {
    "id": "oUkUCq5Fr3Np"
   },
   "source": [
    "The `grid` function generates an image composed of a specified number of frames sampled from the video. It gives an overview of the content of the file."
   ]
  },
  {
   "cell_type": "code",
   "execution_count": null,
   "metadata": {
    "colab": {
     "base_uri": "https://localhost:8080/",
     "height": 269
    },
    "executionInfo": {
     "elapsed": 1049,
     "status": "ok",
     "timestamp": 1696407572537,
     "user": {
      "displayName": "Joachim Poutaraud",
      "userId": "07157632167712239236"
     },
     "user_tz": -120
    },
    "id": "o42Zl_YAr3Np",
    "outputId": "ee6dd024-25ab-415c-f949-e757ae72821d"
   },
   "outputs": [],
   "source": [
    "video_grid = video.grid(height=300, rows=1, cols=9)\n",
    "video_grid.show(mode='notebook')"
   ]
  },
  {
   "cell_type": "code",
   "execution_count": null,
   "metadata": {
    "colab": {
     "base_uri": "https://localhost:8080/",
     "height": 952
    },
    "executionInfo": {
     "elapsed": 1177,
     "status": "ok",
     "timestamp": 1696407577645,
     "user": {
      "displayName": "Joachim Poutaraud",
      "userId": "07157632167712239236"
     },
     "user_tz": -120
    },
    "id": "bdZX2uKtr3Np",
    "outputId": "e8889b01-1ff0-44f9-a6ec-d0c6fa0a7027"
   },
   "outputs": [],
   "source": [
    "video_grid = video.grid(height=300, rows=3, cols=3)\n",
    "video_grid.show(mode='notebook')"
   ]
  },
  {
   "cell_type": "markdown",
   "metadata": {
    "id": "Bu233_olr3Np"
   },
   "source": [
    "### Average image\n",
    "You can also summarize the content of a video by showing the average of all frames in a single image."
   ]
  },
  {
   "cell_type": "code",
   "execution_count": null,
   "metadata": {
    "colab": {
     "base_uri": "https://localhost:8080/",
     "height": 510
    },
    "executionInfo": {
     "elapsed": 790,
     "status": "ok",
     "timestamp": 1696407582891,
     "user": {
      "displayName": "Joachim Poutaraud",
      "userId": "07157632167712239236"
     },
     "user_tz": -120
    },
    "id": "I9bEZ3aCr3Nq",
    "outputId": "7b9037d1-4ebd-4a52-e8e0-7279b09e071b"
   },
   "outputs": [],
   "source": [
    "video.blend(component_mode='average').show(mode='notebook')"
   ]
  },
  {
   "cell_type": "markdown",
   "metadata": {
    "id": "BDajNsU7r3Nq"
   },
   "source": [
    "This resembles an \"open shutter\" technique used in early photography, blending all images together."
   ]
  },
  {
   "cell_type": "markdown",
   "metadata": {
    "id": "LhrsOYT3r3Nq"
   },
   "source": [
    "### History video"
   ]
  },
  {
   "cell_type": "markdown",
   "metadata": {
    "id": "cbdFkWW3r3Nq"
   },
   "source": [
    "A history video preserves somes information about previous frames through a delay process. The last *n* frames overlaid on top of the current one."
   ]
  },
  {
   "cell_type": "code",
   "execution_count": null,
   "metadata": {
    "colab": {
     "base_uri": "https://localhost:8080/",
     "height": 549
    },
    "executionInfo": {
     "elapsed": 6869,
     "status": "ok",
     "timestamp": 1696407608399,
     "user": {
      "displayName": "Joachim Poutaraud",
      "userId": "07157632167712239236"
     },
     "user_tz": -120
    },
    "id": "sH9Lw9NUr3Nq",
    "outputId": "7590fe98-b0ae-4cf3-cf69-ef50fb0ab0a8"
   },
   "outputs": [],
   "source": [
    "history = video.history(history_length=30) # returns an MgVideo with the history video\n",
    "history.show(mode='notebook')"
   ]
  },
  {
   "cell_type": "markdown",
   "metadata": {
    "id": "uFlpmlDCr3Nr"
   },
   "source": [
    "Such history videos can be useful to display the trajectories of motion over time."
   ]
  },
  {
   "cell_type": "markdown",
   "metadata": {
    "id": "FPggbehEr3Nr"
   },
   "source": [
    "It can also be the input to a grid image:"
   ]
  },
  {
   "cell_type": "code",
   "execution_count": null,
   "metadata": {
    "colab": {
     "base_uri": "https://localhost:8080/",
     "height": 952
    },
    "executionInfo": {
     "elapsed": 1018,
     "status": "ok",
     "timestamp": 1696407612737,
     "user": {
      "displayName": "Joachim Poutaraud",
      "userId": "07157632167712239236"
     },
     "user_tz": -120
    },
    "id": "to7UmeDPr3Nr",
    "outputId": "9c9c5344-14fe-411b-9686-d231b1f46b38"
   },
   "outputs": [],
   "source": [
    "video_grid = history.grid(height=300, rows=3, cols=3)\n",
    "video_grid.show(mode='notebook')"
   ]
  },
  {
   "cell_type": "markdown",
   "metadata": {
    "id": "W_NPPYh0r3Nr"
   },
   "source": [
    "### Videograms"
   ]
  },
  {
   "cell_type": "markdown",
   "metadata": {
    "id": "FIYPkPQEr3Nr"
   },
   "source": [
    "A videogram is a compact representation based on summing up either the rows or columns of the video.\n",
    "\n",
    "![Overview of videograms](../wiki_pics/motiongram_640.jpg)"
   ]
  },
  {
   "cell_type": "markdown",
   "metadata": {
    "id": "UV5Gi2N9r3Nr"
   },
   "source": [
    "Videograms can be created using the `videograms()` function:"
   ]
  },
  {
   "cell_type": "code",
   "execution_count": null,
   "metadata": {
    "colab": {
     "base_uri": "https://localhost:8080/"
    },
    "executionInfo": {
     "elapsed": 812,
     "status": "ok",
     "timestamp": 1696407619697,
     "user": {
      "displayName": "Joachim Poutaraud",
      "userId": "07157632167712239236"
     },
     "user_tz": -120
    },
    "id": "lFOI3MBfr3Ns",
    "outputId": "ebf0bdd2-53e9-4cfe-d623-7f7beee98b9f"
   },
   "outputs": [],
   "source": [
    "videograms = video.videograms()\n",
    "videograms.show(mode=\"notebook\") # view both videograms"
   ]
  },
  {
   "cell_type": "code",
   "execution_count": null,
   "metadata": {
    "colab": {
     "base_uri": "https://localhost:8080/",
     "height": 100
    },
    "executionInfo": {
     "elapsed": 261,
     "status": "ok",
     "timestamp": 1696407626038,
     "user": {
      "displayName": "Joachim Poutaraud",
      "userId": "07157632167712239236"
     },
     "user_tz": -120
    },
    "id": "Hyl0UUQmr3Ns",
    "outputId": "7c931e37-6332-45ed-f171-4fe4ea322412"
   },
   "outputs": [],
   "source": [
    "videograms[0].show(mode=\"notebook\") # view horizontal videogram"
   ]
  },
  {
   "cell_type": "code",
   "execution_count": null,
   "metadata": {
    "colab": {
     "base_uri": "https://localhost:8080/",
     "height": 492
    },
    "executionInfo": {
     "elapsed": 311,
     "status": "ok",
     "timestamp": 1696407628181,
     "user": {
      "displayName": "Joachim Poutaraud",
      "userId": "07157632167712239236"
     },
     "user_tz": -120
    },
    "id": "1HlBGYDer3Ns",
    "outputId": "49d47229-0eb0-4cad-a1b9-136a41d3cf49"
   },
   "outputs": [],
   "source": [
    "videograms[1].show(mode=\"notebook\") # view vertical videogram"
   ]
  },
  {
   "cell_type": "markdown",
   "metadata": {
    "id": "nEkPrkCWr3Nt"
   },
   "source": [
    "They are useful for getting an overview over longer video recordings, anything from minutes to hours of material. The dimensions of the output image are based on the pixels and frames of the source video. You may therefore want to use the `skip` function when reading the video to reduce the number of frames of long videos."
   ]
  },
  {
   "cell_type": "markdown",
   "metadata": {
    "id": "XacVxuh1r3Nt"
   },
   "source": [
    "## Motion analysis"
   ]
  },
  {
   "cell_type": "markdown",
   "metadata": {
    "id": "TDtmXHFGr3Nt"
   },
   "source": [
    "These processes are based on analyzing what changes in the video files."
   ]
  },
  {
   "cell_type": "markdown",
   "metadata": {
    "id": "yTewxRplr3Nt"
   },
   "source": [
    "- `motion()`: The most frequently used function generates a motion video, motiongrams, a data file, and plots of the data.\n",
    "\n",
    "The `motion()` function encapsulates these four functions:\n",
    "\n",
    "- `motionvideo()`: This function only generates a motion video\n",
    "- `motiondata()`: This function only generates motion data\n",
    "- `motionplots()`: This function only generats motion plots\n",
    "- `motiongrams()`: This function only outputs the motiongrams.\n",
    "\n",
    "After we switched to `FFmpeg` rendering, there is no particular performance benefit of running the processes separately."
   ]
  },
  {
   "cell_type": "markdown",
   "metadata": {
    "id": "P5kjr3vnr3Nu"
   },
   "source": [
    "### Frame differencing"
   ]
  },
  {
   "cell_type": "markdown",
   "metadata": {
    "id": "bNknE_qmr3Nu"
   },
   "source": [
    "The `motion()` function does many things at once. It is based on the concept of \"frame differencing\"."
   ]
  },
  {
   "cell_type": "markdown",
   "metadata": {
    "id": "Kr6U-QuGr3Nu"
   },
   "source": [
    "![Frame differencing explained](../wiki_pics/motion-image_640.jpg)\n",
    "\n",
    "Only pixels that change between frames are shown."
   ]
  },
  {
   "cell_type": "code",
   "execution_count": null,
   "metadata": {
    "colab": {
     "base_uri": "https://localhost:8080/",
     "height": 549
    },
    "executionInfo": {
     "elapsed": 3290,
     "status": "ok",
     "timestamp": 1696407636035,
     "user": {
      "displayName": "Joachim Poutaraud",
      "userId": "07157632167712239236"
     },
     "user_tz": -120
    },
    "id": "EJ0xZlJhr3Nv",
    "outputId": "e0e0f3a7-70b4-49c4-a8ca-9053214cde81"
   },
   "outputs": [],
   "source": [
    "video.motionvideo().show(mode=\"notebook\")"
   ]
  },
  {
   "cell_type": "markdown",
   "metadata": {
    "id": "WrSxuyA4r3Nv"
   },
   "source": [
    "### Motiongrams"
   ]
  },
  {
   "cell_type": "markdown",
   "metadata": {
    "id": "tcU4V0M2r3Nv"
   },
   "source": [
    "Motiongrams are based on the same processing as videograms but starting from a motion video.\n",
    "\n",
    "![Overview of videograms](../wiki_pics/motiongram_640.jpg)"
   ]
  },
  {
   "cell_type": "markdown",
   "metadata": {
    "id": "PVz1CKhkr3Nv"
   },
   "source": [
    "Motiongrams are created with the `motiongrams()` function:"
   ]
  },
  {
   "cell_type": "code",
   "execution_count": null,
   "metadata": {
    "colab": {
     "base_uri": "https://localhost:8080/"
    },
    "executionInfo": {
     "elapsed": 2187,
     "status": "ok",
     "timestamp": 1696407643003,
     "user": {
      "displayName": "Joachim Poutaraud",
      "userId": "07157632167712239236"
     },
     "user_tz": -120
    },
    "id": "yZPOovjbr3Nv",
    "outputId": "b0165aac-af3c-485f-d904-6b25a16ac311"
   },
   "outputs": [],
   "source": [
    "video = mg.MgVideo(dance)\n",
    "motiongrams = video.motiongrams()"
   ]
  },
  {
   "cell_type": "code",
   "execution_count": null,
   "metadata": {
    "colab": {
     "base_uri": "https://localhost:8080/",
     "height": 233
    },
    "executionInfo": {
     "elapsed": 294,
     "status": "ok",
     "timestamp": 1696407645128,
     "user": {
      "displayName": "Joachim Poutaraud",
      "userId": "07157632167712239236"
     },
     "user_tz": -120
    },
    "id": "QzyT5s8ar3Nw",
    "outputId": "bd21a2b9-bc91-4ea0-8dc0-1c502c0e154c"
   },
   "outputs": [],
   "source": [
    "motiongrams[0].show(mode=\"notebook\") # view vertical motiongram"
   ]
  },
  {
   "cell_type": "code",
   "execution_count": null,
   "metadata": {
    "colab": {
     "base_uri": "https://localhost:8080/",
     "height": 492
    },
    "executionInfo": {
     "elapsed": 464,
     "status": "ok",
     "timestamp": 1696407648011,
     "user": {
      "displayName": "Joachim Poutaraud",
      "userId": "07157632167712239236"
     },
     "user_tz": -120
    },
    "id": "fbOSWmQJr3Nw",
    "outputId": "12129f1b-7385-4876-fc92-3688e1179276"
   },
   "outputs": [],
   "source": [
    "motiongrams[1].show(mode=\"notebook\") # view horizontal motiongram"
   ]
  },
  {
   "cell_type": "markdown",
   "metadata": {
    "id": "yTIvws_xr3Nw"
   },
   "source": [
    "### Motion features"
   ]
  },
  {
   "cell_type": "markdown",
   "metadata": {
    "id": "vigjOXwXr3Nw"
   },
   "source": [
    "We can extract some basic features from the motion video:\n",
    "\n",
    "- Quantity of Motion (QoM)\n",
    "- Area of Motion (AoM)\n",
    "- Centroid of Motion (CoM)"
   ]
  },
  {
   "cell_type": "markdown",
   "metadata": {
    "id": "j59VXVPTr3Nw"
   },
   "source": [
    "Quantity of Motion\n",
    "\n",
    "![Quantity of motion](../wiki_pics/quantity-of-motion_640.jpg)"
   ]
  },
  {
   "cell_type": "markdown",
   "metadata": {
    "id": "H_9X2aVPr3Nx"
   },
   "source": [
    "Area and centroid of motion\n",
    "\n",
    "![Motion features](../wiki_pics/centroid-of-motion_640.jpg)"
   ]
  },
  {
   "cell_type": "markdown",
   "metadata": {
    "id": "eF37lz3Wr3Nx"
   },
   "source": [
    "The features can be extracted with this command:"
   ]
  },
  {
   "cell_type": "code",
   "execution_count": null,
   "metadata": {
    "colab": {
     "base_uri": "https://localhost:8080/",
     "height": 53
    },
    "executionInfo": {
     "elapsed": 32738,
     "status": "ok",
     "timestamp": 1696407762352,
     "user": {
      "displayName": "Joachim Poutaraud",
      "userId": "07157632167712239236"
     },
     "user_tz": -120
    },
    "id": "XGODOcS7r3Nx",
    "outputId": "a7d6ce6c-ef10-449e-8f5e-055c729bbc79"
   },
   "outputs": [],
   "source": [
    "video = mg.MgVideo(dance)\n",
    "video.motiondata()"
   ]
  },
  {
   "cell_type": "markdown",
   "metadata": {
    "id": "VGGdHl3Sr3Nx"
   },
   "source": [
    "And plotted like this:"
   ]
  },
  {
   "cell_type": "code",
   "execution_count": null,
   "metadata": {
    "colab": {
     "base_uri": "https://localhost:8080/",
     "height": 1000
    },
    "executionInfo": {
     "elapsed": 24389,
     "status": "ok",
     "timestamp": 1696407791543,
     "user": {
      "displayName": "Joachim Poutaraud",
      "userId": "07157632167712239236"
     },
     "user_tz": -120
    },
    "id": "2UlHvCipr3Ny",
    "outputId": "cd70fd78-22a2-408a-ab93-136a7bf583d8"
   },
   "outputs": [],
   "source": [
    "video.motionplots().show(mode=\"notebook\")"
   ]
  },
  {
   "cell_type": "markdown",
   "metadata": {
    "id": "-bT5ndhor3Ny"
   },
   "source": [
    "### All at once"
   ]
  },
  {
   "cell_type": "markdown",
   "metadata": {
    "id": "2SQuxfyAr3Ny"
   },
   "source": [
    "To save processing time, we have packaged many of these functions together in `motion()`:"
   ]
  },
  {
   "cell_type": "code",
   "execution_count": null,
   "metadata": {
    "colab": {
     "base_uri": "https://localhost:8080/"
    },
    "executionInfo": {
     "elapsed": 69544,
     "status": "ok",
     "timestamp": 1696407988121,
     "user": {
      "displayName": "Joachim Poutaraud",
      "userId": "07157632167712239236"
     },
     "user_tz": -120
    },
    "id": "7MaaMwXJr3Ny",
    "outputId": "74005956-6470-4937-8746-0df622f4f3a6"
   },
   "outputs": [],
   "source": [
    "video.motion()"
   ]
  },
  {
   "cell_type": "markdown",
   "metadata": {
    "id": "CdaSlTEar3Ny"
   },
   "source": [
    "That function outputs all of these a the same time:\n",
    "\n",
    "- *<input_filename>_motion.avi*: The motion video that is used as the source for the rest of the analysis.\n",
    "- *<input_filename>_mgx.png*: A horizontal motiongram.\n",
    "- *<input_filename>_mgy.png*: A vertical motiongram.\n",
    "- *<input_filename>_motion_com_qom.png*: An image file with plots of centroid and quantity of motion\n",
    "- *<input_filename>_motion.csv*: A text file with data from the analysis"
   ]
  },
  {
   "cell_type": "markdown",
   "metadata": {
    "id": "x6zBNe1vr3Nz"
   },
   "source": [
    "### Filtering"
   ]
  },
  {
   "cell_type": "markdown",
   "metadata": {
    "id": "67yuOmA6r3Nz"
   },
   "source": [
    "If there is too much noise in the output images or video, you may choose to use some other filter settings:\n",
    "\n",
    "- `Regular` turns all values below `thresh` to 0.\n",
    "- `Binary` turns all values below `thresh` to 0, above `thresh` to 1.\n",
    "- `Blob` removes individual pixels with erosion method."
   ]
  },
  {
   "cell_type": "markdown",
   "metadata": {
    "id": "2XKWDbs4r3Nz"
   },
   "source": [
    "Finding the right threshold value is crucial for accurate motion extraction. Let's see a few examples.\n",
    "\n",
    "First we import an example video."
   ]
  },
  {
   "cell_type": "code",
   "execution_count": null,
   "metadata": {
    "colab": {
     "base_uri": "https://localhost:8080/"
    },
    "executionInfo": {
     "elapsed": 2382,
     "status": "ok",
     "timestamp": 1696408014682,
     "user": {
      "displayName": "Joachim Poutaraud",
      "userId": "07157632167712239236"
     },
     "user_tz": -120
    },
    "id": "mGWpVonZr3Nz",
    "outputId": "11adad93-b383-4e3d-d182-fe68ea590e66"
   },
   "outputs": [],
   "source": [
    "video = mg.MgVideo(dance, starttime=5, endtime=10, skip=0, contrast=100, brightness=20)"
   ]
  },
  {
   "cell_type": "markdown",
   "metadata": {
    "id": "fPlsGEm7r3Nz"
   },
   "source": [
    "First we can try to run without any threshold. This will result in a result in which much of the background noise will be visible, including traces of keyframes if the video file has been compressed."
   ]
  },
  {
   "cell_type": "code",
   "execution_count": null,
   "metadata": {
    "colab": {
     "base_uri": "https://localhost:8080/",
     "height": 660
    },
    "executionInfo": {
     "elapsed": 10713,
     "status": "ok",
     "timestamp": 1696408031114,
     "user": {
      "displayName": "Joachim Poutaraud",
      "userId": "07157632167712239236"
     },
     "user_tz": -120
    },
    "id": "I9iOzpd0r3N0",
    "outputId": "dc27a95c-6018-4d2d-d6f4-a55cf1a2da4f",
    "scrolled": false
   },
   "outputs": [],
   "source": [
    "video.motiongrams(thresh=0.0)[0].show(mode='notebook')"
   ]
  },
  {
   "cell_type": "markdown",
   "metadata": {
    "id": "g4tprC4zr3N0"
   },
   "source": [
    "The standard threshold value (0.1) generally works well for many types of videos."
   ]
  },
  {
   "cell_type": "code",
   "execution_count": null,
   "metadata": {
    "colab": {
     "base_uri": "https://localhost:8080/",
     "height": 660
    },
    "executionInfo": {
     "elapsed": 7855,
     "status": "ok",
     "timestamp": 1696408052456,
     "user": {
      "displayName": "Joachim Poutaraud",
      "userId": "07157632167712239236"
     },
     "user_tz": -120
    },
    "id": "o0pB9WwZr3N0",
    "outputId": "9ef02ebf-f35a-46c5-c640-fad0f1c69328"
   },
   "outputs": [],
   "source": [
    "video.motiongrams(thresh=0.1)[0].show(mode='notebook')"
   ]
  },
  {
   "cell_type": "markdown",
   "metadata": {
    "id": "pfkRa0Ifr3N1"
   },
   "source": [
    "A more extreme value (for example 0.5) will remove quite a lot of the content, but may be useful in some cases with very noisy videos."
   ]
  },
  {
   "cell_type": "code",
   "execution_count": null,
   "metadata": {
    "colab": {
     "base_uri": "https://localhost:8080/",
     "height": 660
    },
    "executionInfo": {
     "elapsed": 7503,
     "status": "ok",
     "timestamp": 1696408062935,
     "user": {
      "displayName": "Joachim Poutaraud",
      "userId": "07157632167712239236"
     },
     "user_tz": -120
    },
    "id": "IzkxvISkr3N1",
    "outputId": "b9d45bce-eb27-4c8f-a344-b30c8821a56a"
   },
   "outputs": [],
   "source": [
    "video.motiongrams(thresh=0.5)[0].show(mode='notebook')"
   ]
  },
  {
   "cell_type": "markdown",
   "metadata": {
    "id": "2LFwGEOgr3N1"
   },
   "source": [
    "As the above examples have shown, choosing the thresholding value is important for the final output result. While it often works to use the default value (0.1), you may improve the result by testing different thresholds."
   ]
  },
  {
   "cell_type": "markdown",
   "metadata": {
    "id": "RRukHs8mr3N1"
   },
   "source": [
    "### Motion history"
   ]
  },
  {
   "cell_type": "markdown",
   "metadata": {
    "id": "oIeCZBiwr3OG"
   },
   "source": [
    "To expressively visualize the trajectory of a moving content in a video, you can apply the history process on a motion video. You can do this by chaining `motion()` into `history()`."
   ]
  },
  {
   "cell_type": "code",
   "execution_count": null,
   "metadata": {
    "colab": {
     "base_uri": "https://localhost:8080/",
     "height": 588
    },
    "executionInfo": {
     "elapsed": 11251,
     "status": "ok",
     "timestamp": 1696408078767,
     "user": {
      "displayName": "Joachim Poutaraud",
      "userId": "07157632167712239236"
     },
     "user_tz": -120
    },
    "id": "lx9rFO7Mr3OH",
    "outputId": "00636a8f-cf4f-4011-b1ed-8bd57472f222"
   },
   "outputs": [],
   "source": [
    "video.motion().history().show(mode=\"notebook\")"
   ]
  },
  {
   "cell_type": "markdown",
   "metadata": {
    "id": "hQGmHdLBr3OI"
   },
   "source": [
    "You can modify the length of the history:"
   ]
  },
  {
   "cell_type": "code",
   "execution_count": null,
   "metadata": {
    "colab": {
     "base_uri": "https://localhost:8080/"
    },
    "id": "LgFxX8R0r3OI",
    "outputId": "8eaf6abb-de28-413d-e087-b5e8fc759fb3"
   },
   "outputs": [],
   "source": [
    "video.motion().history(history_length=20).show(mode=\"notebook\")"
   ]
  },
  {
   "cell_type": "markdown",
   "metadata": {
    "id": "7WHI3WDfr3OJ"
   },
   "source": [
    "And combine it with inverting the motion video:"
   ]
  },
  {
   "cell_type": "code",
   "execution_count": null,
   "metadata": {
    "colab": {
     "base_uri": "https://localhost:8080/"
    },
    "id": "ktiPccv8r3OJ",
    "outputId": "dc875bfc-ca09-40b4-d3c5-697cb8dbba98"
   },
   "outputs": [],
   "source": [
    "video.motion(inverted_motionvideo=True).history().show(mode=\"notebook\")"
   ]
  },
  {
   "cell_type": "markdown",
   "metadata": {
    "id": "aKtUuDhKr3OJ"
   },
   "source": [
    "### Motion average"
   ]
  },
  {
   "cell_type": "markdown",
   "metadata": {
    "id": "gCAuwoFjr3OK"
   },
   "source": [
    "It can also be interesting to chain a motion video with the `average` function:"
   ]
  },
  {
   "cell_type": "code",
   "execution_count": null,
   "metadata": {
    "colab": {
     "base_uri": "https://localhost:8080/"
    },
    "id": "ed0P8LYBr3OK",
    "outputId": "15114428-8c0a-4faa-d313-57fe4d3c96cb"
   },
   "outputs": [],
   "source": [
    "video.motion().blend(component_mode='average').show(mode=\"notebook\")"
   ]
  },
  {
   "cell_type": "markdown",
   "metadata": {
    "id": "Rgg6Ntkvr3OK"
   },
   "source": [
    "## Advanced techniques"
   ]
  },
  {
   "cell_type": "markdown",
   "metadata": {
    "id": "A8CLNOPQr3OK"
   },
   "source": [
    "### Optical flow\n",
    "It is also possible to track the direction certain points - or all points - move in a video, this is called 'optical flow'. It has two types: the *sparse optical flow*, which is for tracking a small (sparse) set of points, visualized with an overlay of dots and lines drawing the trajectory of the chosen points as they move in the video.\n",
    "\n",
    "- `flow.sparse()`: Renders a *_sparse* optical flow video.\n",
    "- `flow.dense()`: Renders a *_dense* optical flow video.\n",
    "- `pose()`: Renders a *_pose* human pose estimation video, and optionally outputs the pose data as a csv file."
   ]
  },
  {
   "cell_type": "code",
   "execution_count": null,
   "metadata": {
    "id": "bI6nr2DZr3OL"
   },
   "outputs": [],
   "source": [
    "video.flow.sparse().show(mode=\"notebook\")"
   ]
  },
  {
   "cell_type": "markdown",
   "metadata": {
    "id": "DQbYNvAtr3OL"
   },
   "source": [
    "Note that sparse optical flow usually works well with slow and continuous movements, where the points to be tracked are not occluded by other objects throughout the course of motion.\n",
    "Where spare optical flow becomes less reliable, *dense optical flow* often yields more robust results. In dense optical flow the analysis attempts to track the movement of each pixel (or more precisely groups of pixels), colorcoding them with a unique color for each unique direction."
   ]
  },
  {
   "cell_type": "code",
   "execution_count": null,
   "metadata": {
    "id": "Tzd3uhyGr3OM"
   },
   "outputs": [],
   "source": [
    "video.flow.dense().show(mode=\"notebook\")"
   ]
  },
  {
   "cell_type": "markdown",
   "metadata": {
    "id": "ouDsLVC3r3OM"
   },
   "source": [
    "Sparse optical flow can get confused by too fast movement (ie. too big distance between the locations of a tracked point between two consequtive frames), so it is typically advised not to have a too high `skip` value in the preprocessing stage for it to work properly.\n",
    "Dense optical flow on the other hand has issues with very slow movement, which sometimes gets below the treshold of what is considered 'a movement' resulting in a blinking video, where the more-or-less idle moments are rendered completely black. If your source video contains such moments, you can try setting `skip_empty=True`, which will discard all the (completely) black frames, eliminating the binking."
   ]
  },
  {
   "cell_type": "code",
   "execution_count": null,
   "metadata": {
    "id": "-Si7u7ppr3OM"
   },
   "outputs": [],
   "source": [
    "video.flow.dense(skip_empty=True).show(mode=\"notebook\")"
   ]
  },
  {
   "cell_type": "markdown",
   "metadata": {
    "id": "wox-yei0r3OM"
   },
   "source": [
    "### Pose estimation\n",
    "\n",
    "This module uses a more advanced type of computer vision, that involves a deep neural network trained by a huge dataset of images of people (courtesy of [OpenPose](https://github.com/CMU-Perceptual-Computing-Lab/openpose)!)."
   ]
  },
  {
   "cell_type": "markdown",
   "metadata": {
    "id": "EhmjFjeBr3ON"
   },
   "source": [
    "It tries to estimate their skeleton by tracking a set of \"keypoints\", which are joints on the body - for example \"Head\", \"Left Shoulder\", \"Right Knee\", etc. After the module runs you can take a look at the *_pose.csv* dataset, that contains the normalized XY pixel coordinates of each keypoint, and you can visualize the result with drawing a skeleton overlay over your video. You can choose from three trained models: the MPI (which is trained on the Multi-Person Dataset), the COCO model (trained on the COCO Dataset) or the BODY25 model. The module also supports GPU-acceleration, so if you have compiled openCV with CuDNN support, you can make the - otherwise rather slow - inference process run over 10 times faster!"
   ]
  },
  {
   "cell_type": "markdown",
   "metadata": {
    "id": "Hu9n1ig6r3ON"
   },
   "source": [
    "#### The models\n",
    "Since both models are quite large (~200MB each) they do not \"ship\" with the musicalgestures package, but we do include some convenience bash/batch scripts do download them on the fly if you need them. If the `pose()` module cannot find the model you asked for it will offer you to download it."
   ]
  },
  {
   "cell_type": "markdown",
   "metadata": {
    "id": "zLizOt53r3ON"
   },
   "source": [
    "#### Downsampling\n",
    "Running inference on large neural networks to process every pixel of every frame of your video is quite a costly operation. There is a trick however to reduce the load and this is downsampling your input image. Often times a large part of the frame is redundant and the posture of the person in the video can easily be understood on a lower resolution image as well. Downsampling can greatly speed up `pose()`, but of course it can also make its estimation less accurate if overused. The default value we use in `pose()` is `downsampling_factor=2` which produces a video with one-fourth of its original resolution before feeding it to the network.\n",
    "\n",
    "#### Confidence threshold\n",
    "The networks are not always equally confident about their guesses. Sometimes (especially with heavy downsampling) they can identify other objects in your scene as either of the keypoints of the human body we wish to track. Filtering out inconfident guesses can remove a lot of noise from the prediction. `pose()` has a normalized `threshold` parameter that is set to `0.1`. This means the network has to be at least 10% sure about its guess for us to take that prediction into account.\n",
    "\n",
    "Below you can find a simple example of `pose()` in action. For more info check out the [documentation](https://github.com/fourMs/MGT-python/blob/master/musicalgestures/documentation/_pose.md)."
   ]
  },
  {
   "cell_type": "code",
   "execution_count": null,
   "metadata": {
    "id": "M-atbhbRr3ON",
    "scrolled": false
   },
   "outputs": [],
   "source": [
    "video.pose(downsampling_factor=1, threshold=0.1, model='mpi', device='gpu').show(mode='notebook')"
   ]
  },
  {
   "cell_type": "markdown",
   "metadata": {
    "id": "slyoquqrr3OO"
   },
   "source": [
    "## MgAudio"
   ]
  },
  {
   "cell_type": "markdown",
   "metadata": {
    "id": "zbKC7QT1r3OO"
   },
   "source": [
    "MGT offers several tools to analyze the audio track of videos or audio files. These are implemented both as class methods for `MgVideo` and `MgAudio`."
   ]
  },
  {
   "cell_type": "markdown",
   "metadata": {
    "id": "Qw9gOcO-r3OO"
   },
   "source": [
    "- `waveform()`: Renders a figure showing the waveform of the video/audio file.\n",
    "- `spectrogram()`: Renders a figure showing the mel-scaled spectrogram of the video/audio file.\n",
    "- `descriptors()`: Renders a figure of plots showing spectral/loudness descriptors, including RMS energy, spectral flatness, centroid, bandwidth, rolloff of the video/audio file.\n",
    "- `tempogram()`: Renders a figure with a plots of onset strength and tempogram of the video/audio file."
   ]
  },
  {
   "cell_type": "markdown",
   "metadata": {
    "id": "QUzKYdFSr3OO"
   },
   "source": [
    "These functions use the `librosa` package for audio analysis and the `matplotlib` package for showing the analysis as figures."
   ]
  },
  {
   "cell_type": "markdown",
   "metadata": {
    "id": "I8m5m1s-r3OO"
   },
   "source": [
    "### Waveforms\n",
    "\n",
    "A [waveform](https://en.wikipedia.org/wiki/Waveform) is a plot of audio samples (y axis) against time (x axis). It is a basic visualization of the audio content. Here is how you can create a waveform of an audio track/file:"
   ]
  },
  {
   "cell_type": "code",
   "execution_count": null,
   "metadata": {
    "colab": {
     "base_uri": "https://localhost:8080/",
     "height": 908
    },
    "executionInfo": {
     "elapsed": 28485,
     "status": "ok",
     "timestamp": 1696408400101,
     "user": {
      "displayName": "Joachim Poutaraud",
      "userId": "07157632167712239236"
     },
     "user_tz": -120
    },
    "id": "h-EiS0O3r3OP",
    "outputId": "98cc6821-eade-4b31-8572-9a4e2df26890"
   },
   "outputs": [],
   "source": [
    "audio = mg.MgAudio(pianist)\n",
    "audio.waveform()\n",
    "\n",
    "# Also possible to extract waveform using the MgVideo class\n",
    "# video = mg.MgVideo(pianist)\n",
    "# video.audio.waveform()"
   ]
  },
  {
   "cell_type": "markdown",
   "metadata": {
    "id": "OLvMKIjFr3OP"
   },
   "source": [
    "### Spectrograms\n",
    "\n",
    "A [spectrogram](https://en.wikipedia.org/wiki/Spectrogram) is a plot of frequency spectrum (y axis) against time (x axis). It can provide a much more descriptive representation of audio content than a waveform (which is in a way the sum of all frequencies with respect to their phases). Here is how you can create a spectrogram of an audio track/file:"
   ]
  },
  {
   "cell_type": "code",
   "execution_count": null,
   "metadata": {
    "colab": {
     "base_uri": "https://localhost:8080/",
     "height": 985,
     "output_embedded_package_id": "18HTE8IlDwXUuxmg49F1n5IsbvAhEHc9C"
    },
    "executionInfo": {
     "elapsed": 18806,
     "status": "ok",
     "timestamp": 1696408421730,
     "user": {
      "displayName": "Joachim Poutaraud",
      "userId": "07157632167712239236"
     },
     "user_tz": -120
    },
    "id": "Hjzuc68Hr3OP",
    "outputId": "3dd849eb-86ea-4d36-cccf-854234ce06b6"
   },
   "outputs": [],
   "source": [
    "audio = mg.MgAudio(pianist)\n",
    "audio.spectrogram()"
   ]
  },
  {
   "cell_type": "markdown",
   "metadata": {
    "id": "0weMu1DIr3OQ"
   },
   "source": [
    "This has created a figure showing the [mel-scaled](https://en.wikipedia.org/wiki/Mel_scale) spectrogram, and rendered *dancer_spectrogram.png* in the same folder where our input video, *dance.avi* resides."
   ]
  },
  {
   "cell_type": "markdown",
   "metadata": {
    "id": "jdHJMcNsr3OR"
   },
   "source": [
    "### Tempograms\n",
    "\n",
    "Tempograms attempt to use the same technique (called [Fast Fourier Transform](https://en.wikipedia.org/wiki/Fast_Fourier_transform)) as spectrograms to estimate musical tempo of the audio. In `tempogram()` we analyze the onsets and their strengths throughout the audio track, and then estimate the global tempo based on those. Here is how to use it:"
   ]
  },
  {
   "cell_type": "code",
   "execution_count": null,
   "metadata": {
    "colab": {
     "base_uri": "https://localhost:8080/",
     "height": 908
    },
    "executionInfo": {
     "elapsed": 13778,
     "status": "ok",
     "timestamp": 1696408435505,
     "user": {
      "displayName": "Joachim Poutaraud",
      "userId": "07157632167712239236"
     },
     "user_tz": -120
    },
    "id": "VoPj8XWxr3OR",
    "outputId": "7c2005cd-ed53-4037-e486-b472a6e5758c"
   },
   "outputs": [],
   "source": [
    "audio = mg.MgAudio(pianist)\n",
    "audio.tempogram()"
   ]
  },
  {
   "cell_type": "markdown",
   "metadata": {
    "id": "GK4VY9jEr3OR"
   },
   "source": [
    "Estimating musical tempo meaningfully is a tricky thing, as it is often a function of not just onsets (beats), but the underlying harmonic structure as well. `tempogram()` only relies on onsets to make its estimation, which can in some cases identify the most common beat frequency as the \"tempo\" (rather than the _actual_ musical tempo)."
   ]
  },
  {
   "cell_type": "markdown",
   "metadata": {
    "id": "7Ksl5a7-r3OS"
   },
   "source": [
    "### Descriptors\n",
    "\n",
    "Additionally to spectrograms and tempogams you can also get a collection of audio descriptors via `descriptors()`. This collection includes:\n",
    "- RMS energy,\n",
    "- spectral flatness,\n",
    "- spectral centroid,\n",
    "- spectral bandwidth,\n",
    "- and spectral rolloff.\n",
    "\n",
    "RMS energy is often used to get a perceived loudness of the audio signal. Spectral flatness indicates how _flat_ the graph of the spectrum is at a given point in time. Noisier signals are more flat than harmonic ones. The spectral centroid shows the centroid of the spectrum, spectral bandwidth marks the the frequency range where power drops by less than half (at most −3 dB). Spectral rolloff is the frequency below which a specified percentage of the total spectral energy, e.g. 85%, lies. `descriptors()` draws two rolloff lines: one at 99% of the energy, and another at 1%."
   ]
  },
  {
   "cell_type": "code",
   "execution_count": null,
   "metadata": {
    "colab": {
     "base_uri": "https://localhost:8080/",
     "height": 1000,
     "output_embedded_package_id": "1gQ7hS5fJLDybF-y9qxAfuiuExdIu-KYj"
    },
    "executionInfo": {
     "elapsed": 11251,
     "status": "ok",
     "timestamp": 1696408447057,
     "user": {
      "displayName": "Joachim Poutaraud",
      "userId": "07157632167712239236"
     },
     "user_tz": -120
    },
    "id": "lW4afm6ar3OT",
    "outputId": "c4d2ba0a-763c-4da4-ed4a-4451922f2626"
   },
   "outputs": [],
   "source": [
    "audio = mg.MgAudio(pianist)\n",
    "audio.descriptors()"
   ]
  },
  {
   "cell_type": "markdown",
   "metadata": {
    "id": "NexWt0Gar3OT"
   },
   "source": [
    "### Self-similarity matrices"
   ]
  },
  {
   "cell_type": "markdown",
   "metadata": {
    "id": "39zAukQyr3OU"
   },
   "source": [
    "Self-Similarity Matrices allow for detecting periodicities in a signal."
   ]
  },
  {
   "cell_type": "code",
   "execution_count": null,
   "metadata": {
    "colab": {
     "base_uri": "https://localhost:8080/",
     "height": 852
    },
    "executionInfo": {
     "elapsed": 12667,
     "status": "ok",
     "timestamp": 1696408460630,
     "user": {
      "displayName": "Joachim Poutaraud",
      "userId": "07157632167712239236"
     },
     "user_tz": -120
    },
    "id": "BwXUFsUcr3OU",
    "outputId": "6246652c-029c-4d29-ac97-864dc38df4ac"
   },
   "outputs": [],
   "source": [
    "audio = mg.MgAudio(pianist)\n",
    "chromassm = audio.ssm(features='chromagram', cmap='magma', norm=2) # returns an MgImage with the chromagram SSM\n",
    "chromassm.show(mode='notebook') # view chromagram SSM"
   ]
  },
  {
   "cell_type": "markdown",
   "metadata": {
    "id": "VnLAvnZHr3OU"
   },
   "source": [
    "## Figures and Plotting"
   ]
  },
  {
   "cell_type": "markdown",
   "metadata": {
    "id": "_TExqrrbr3OV"
   },
   "source": [
    "The Musical Gestures Toolbox includes several tools to extract data from audio-visual content, and many of these tools output figures (or images) to visualize this time-varying data. In this section we take a closer look on how we can customize and combine figures and images from the toolbox.\n",
    "\n",
    "### Titles\n",
    "\n",
    "By default the figures rendered by the toolbox automatically get the title of the source file we analyzed. We can also change this by providing a title as an argument to the function or method we are using. Here are some examples:"
   ]
  },
  {
   "cell_type": "code",
   "execution_count": null,
   "metadata": {
    "colab": {
     "base_uri": "https://localhost:8080/",
     "height": 1000,
     "output_embedded_package_id": "1WhnGiW2RzZoHuOQxt_sc2eatQGds1FL1"
    },
    "executionInfo": {
     "elapsed": 91171,
     "status": "ok",
     "timestamp": 1696408560925,
     "user": {
      "displayName": "Joachim Poutaraud",
      "userId": "07157632167712239236"
     },
     "user_tz": -120
    },
    "id": "AES7oS3jr3OV",
    "outputId": "d5d49339-8386-4d41-98c6-288782ad357b",
    "scrolled": false
   },
   "outputs": [],
   "source": [
    "# source video as an MgObject\n",
    "video = mg.MgVideo(pianist)\n",
    "\n",
    "# motion plots\n",
    "motionplots = video.motionplots(title='Liszt - Mephisto Waltz No. 1 - motion')\n",
    "# spectrogram\n",
    "spectrogram = video.audio.spectrogram(title='Liszt - Mephisto Waltz No. 1 - spectrogram', autoshow=False)\n",
    "# tempogram\n",
    "tempogram = video.audio.tempogram(title='Liszt - Mephisto Waltz No. 1 - tempogram', autoshow=False)\n",
    "# descriptors\n",
    "descriptors = video.audio.descriptors(title='Liszt - Mephisto Waltz No. 1 - descriptors', autoshow=False)"
   ]
  },
  {
   "cell_type": "markdown",
   "metadata": {
    "id": "oNa04Ypmr3OW"
   },
   "source": [
    "## Combining figures and images\n",
    "\n",
    "In this section we take a look at how we can compose time-aligned figures easily within the Musical Gestures Toolbox."
   ]
  },
  {
   "cell_type": "markdown",
   "metadata": {
    "id": "j73RTs2Pr3OW"
   },
   "source": [
    "### Helper data structures: MgFigure and MgList\n",
    "\n",
    "First let us take a look at the data structures which help us through the composition."
   ]
  },
  {
   "cell_type": "markdown",
   "metadata": {
    "id": "Ek6eYyEAr3OX"
   },
   "source": [
    "### MgFigure\n",
    "\n",
    "As we have `MgVideo` for videos and `MgImage` for images, we also use a dedicated data structure for `matplotlib` figures: the `MgFigure`. Normally, you don't need a custom data-structure to just deal with a figure, but `MgFigure` offers an organized, comfortable way to represent the type of the figure and its data, so that we can reuse it in other figures. First of all, it implements the `show()` method which is used across the `musicalgestures` package to show the content of an object. In the case of `MgFigure` this will show the internal `matplotlib.pyplot.figure` object:"
   ]
  },
  {
   "cell_type": "code",
   "execution_count": null,
   "metadata": {
    "colab": {
     "base_uri": "https://localhost:8080/",
     "height": 530
    },
    "executionInfo": {
     "elapsed": 2316,
     "status": "ok",
     "timestamp": 1696408564473,
     "user": {
      "displayName": "Joachim Poutaraud",
      "userId": "07157632167712239236"
     },
     "user_tz": -120
    },
    "id": "srtiXrxDr3OX",
    "outputId": "5705b30d-632e-4083-96e8-17d1a1ab32cc"
   },
   "outputs": [],
   "source": [
    "spectrogram.show()"
   ]
  },
  {
   "cell_type": "markdown",
   "metadata": {
    "id": "zAT7IDzVr3OX"
   },
   "source": [
    "Fun fact: as `show()` is implemented only for the sake of consistency here, you can achieve the same by referring to the internal figure of the `MgFigure` object directly:"
   ]
  },
  {
   "cell_type": "code",
   "execution_count": null,
   "metadata": {
    "colab": {
     "base_uri": "https://localhost:8080/",
     "height": 530
    },
    "executionInfo": {
     "elapsed": 2873,
     "status": "ok",
     "timestamp": 1696408569771,
     "user": {
      "displayName": "Joachim Poutaraud",
      "userId": "07157632167712239236"
     },
     "user_tz": -120
    },
    "id": "OkiOi6K3r3OX",
    "outputId": "a66bd077-afcf-4b87-be09-ff26d463c11e"
   },
   "outputs": [],
   "source": [
    "spectrogram.figure # same as spectrogram.show()"
   ]
  },
  {
   "cell_type": "markdown",
   "metadata": {
    "id": "--3pA6NMr3OX"
   },
   "source": [
    "What is more important is that each `MgFigure` has a `figure_type` attribute. This is what you see when you `print` (or in a notebook such as this, evaluate) them:"
   ]
  },
  {
   "cell_type": "code",
   "execution_count": null,
   "metadata": {
    "colab": {
     "base_uri": "https://localhost:8080/"
    },
    "executionInfo": {
     "elapsed": 253,
     "status": "ok",
     "timestamp": 1696408572340,
     "user": {
      "displayName": "Joachim Poutaraud",
      "userId": "07157632167712239236"
     },
     "user_tz": -120
    },
    "id": "0aE74dU9r3OY",
    "outputId": "e37739fe-20f1-4811-ffb8-c904c0ae2954"
   },
   "outputs": [],
   "source": [
    "spectrogram"
   ]
  },
  {
   "cell_type": "markdown",
   "metadata": {
    "id": "bCt5Edzzr3OY"
   },
   "source": [
    "Each `MgFigure` object has a `data` attribute, where we store all the related data to be able to recreate the figure elsewhere. You never really have to interact with this attribute directly, unless you want to look under the hood:"
   ]
  },
  {
   "cell_type": "code",
   "execution_count": null,
   "metadata": {
    "colab": {
     "base_uri": "https://localhost:8080/"
    },
    "executionInfo": {
     "elapsed": 296,
     "status": "ok",
     "timestamp": 1696408575427,
     "user": {
      "displayName": "Joachim Poutaraud",
      "userId": "07157632167712239236"
     },
     "user_tz": -120
    },
    "id": "O3bw4LCyr3OY",
    "outputId": "55445ed1-b52e-4858-8f87-fe3168d0a9c2"
   },
   "outputs": [],
   "source": [
    "print(spectrogram.data.keys()) # see what kind of entries we have in our spectrogram figure\n",
    "print(spectrogram.data['length']) # see the length (in seconds) of the source file"
   ]
  },
  {
   "cell_type": "markdown",
   "metadata": {
    "id": "qVcvzynor3OY"
   },
   "source": [
    "You can also get the rendered image file corresponding to the `MgFigure` object. As an exercise, here is how you can make an `MgImage` of this image file and show it embedded in this notebook:"
   ]
  },
  {
   "cell_type": "code",
   "execution_count": null,
   "metadata": {
    "colab": {
     "base_uri": "https://localhost:8080/",
     "height": 36
    },
    "executionInfo": {
     "elapsed": 11,
     "status": "ok",
     "timestamp": 1696408642832,
     "user": {
      "displayName": "Joachim Poutaraud",
      "userId": "07157632167712239236"
     },
     "user_tz": -120
    },
    "id": "LUX5lahO1Znw",
    "outputId": "47826eaf-9f08-41fa-ec78-f626ffd02b74"
   },
   "outputs": [],
   "source": [
    "spectrogram.image"
   ]
  },
  {
   "cell_type": "code",
   "execution_count": null,
   "metadata": {
    "colab": {
     "base_uri": "https://localhost:8080/",
     "height": 175
    },
    "executionInfo": {
     "elapsed": 276,
     "status": "error",
     "timestamp": 1696408668275,
     "user": {
      "displayName": "Joachim Poutaraud",
      "userId": "07157632167712239236"
     },
     "user_tz": -120
    },
    "id": "MdJ7DMUpr3OZ",
    "outputId": "ecda6aa6-9d9d-468e-991d-4822c3f13dcf"
   },
   "outputs": [],
   "source": [
    "mg.MgImage(spectrogram.image).show(mode=\"notebook\")"
   ]
  },
  {
   "cell_type": "markdown",
   "metadata": {
    "id": "f1pgqko6r3OZ"
   },
   "source": [
    "Another attribute of `MgFigure` is called `layers`. We will get back to this in a bit, for now let's just say that when an `MgFigure` object is in fact a composition of other `MgFigure`, `MgImage` or `MgList` objects, we have access to all those in the `layers` of the \"top-level\" `MgFigure`."
   ]
  },
  {
   "cell_type": "markdown",
   "metadata": {
    "id": "K-WhSml2r3OZ"
   },
   "source": [
    "### MgList\n",
    "\n",
    "Another versatile tool in our hands is `MgList`. It works more-or-less as an ordinary list, and it is specifically designed for working with objects of the `musicalgestures` package. Here is an example how to use it:"
   ]
  },
  {
   "cell_type": "code",
   "execution_count": null,
   "metadata": {
    "colab": {
     "base_uri": "https://localhost:8080/",
     "height": 192
    },
    "executionInfo": {
     "elapsed": 337,
     "status": "error",
     "timestamp": 1696408737758,
     "user": {
      "displayName": "Joachim Poutaraud",
      "userId": "07157632167712239236"
     },
     "user_tz": -120
    },
    "id": "EDALZaExr3OZ",
    "outputId": "a59955d0-caca-4c9e-9d32-e0a90449b418"
   },
   "outputs": [],
   "source": [
    "liszt_list = mg.MgList(spectrogram, tempogram)\n",
    "liszt_list"
   ]
  },
  {
   "cell_type": "markdown",
   "metadata": {
    "id": "ZJ4QHxa1r3Oa"
   },
   "source": [
    "`MgList` also implements many of the `list` feaures you already know:"
   ]
  },
  {
   "cell_type": "code",
   "execution_count": null,
   "metadata": {
    "id": "-0gLJvHMr3Oa"
   },
   "outputs": [],
   "source": [
    "# how many objects are there?\n",
    "print(f'There are {len(liszt_list)} objects in this MgList!')\n",
    "\n",
    "# which one is the 2nd?\n",
    "print(f'The second object is a(n) {liszt_list[1]}.')\n",
    "\n",
    "# change the 2nd element to the descriptors figure instead:\n",
    "liszt_list[1] = descriptors\n",
    "print(f'The second object is now {liszt_list[1]}.') # check results\n",
    "\n",
    "# add the tempogram figure to the list:\n",
    "liszt_list += tempogram\n",
    "print(f'Now there are {len(liszt_list)} objects in this MgList. These are:') # check results\n",
    "for element in liszt_list:\n",
    "    print(element)\n",
    "\n",
    "# fun fact: videograms() returns an MgList with the horizontal and vertical videograms (as MgImages)\n",
    "videograms = mg.MgVideo(pianist).videograms()\n",
    "\n",
    "# MgList.show() will call show() on all its objects in a succession\n",
    "videograms.show(mode=\"notebook\")\n",
    "\n",
    "# add two MgLists\n",
    "everything = videograms + liszt_list\n",
    "print('everything:', everything)"
   ]
  },
  {
   "cell_type": "markdown",
   "metadata": {
    "id": "uBjtdxSsr3Oa"
   },
   "source": [
    "### Composing figures with MgList\n",
    "\n",
    "One of the most useful methods of `MgList` is `as_figure()`. It allows you to conveniently compose a stack of plots, time-aligned, and with a vertical order you specify. Here is an example:"
   ]
  },
  {
   "cell_type": "code",
   "execution_count": null,
   "metadata": {
    "id": "6UWrMEter3Oa",
    "scrolled": false
   },
   "outputs": [],
   "source": [
    "fig_everything = everything.as_figure(title='Liszt - Mephisto Waltz No. 1')"
   ]
  },
  {
   "cell_type": "markdown",
   "metadata": {
    "id": "DQmICt2er3Ob"
   },
   "source": [
    "## Chaining"
   ]
  },
  {
   "cell_type": "markdown",
   "metadata": {
    "id": "xAvPSc3-r3Ob"
   },
   "source": [
    "So far our workflow consisted of the following steps:\n",
    "\n",
    "1. Creating an MgVideo which loads a video file and optionally applies some preprocessing to it.\n",
    "2. Calling a process on the MgVideo.\n",
    "3. Viewing the result."
   ]
  },
  {
   "cell_type": "markdown",
   "metadata": {
    "id": "6baGScc8r3Ob"
   },
   "source": [
    "Something like this:"
   ]
  },
  {
   "cell_type": "code",
   "execution_count": null,
   "metadata": {
    "colab": {
     "base_uri": "https://localhost:8080/",
     "height": 606
    },
    "executionInfo": {
     "elapsed": 11542,
     "status": "ok",
     "timestamp": 1696408770023,
     "user": {
      "displayName": "Joachim Poutaraud",
      "userId": "07157632167712239236"
     },
     "user_tz": -120
    },
    "id": "GJRaXWmhr3Ob",
    "outputId": "383d356e-cfda-4896-f6d6-a8894f24bd94"
   },
   "outputs": [],
   "source": [
    "video = mg.MgVideo(dance, starttime=5, endtime=15, skip=3)\n",
    "video.motion()\n",
    "video.show(mode=\"notebook\", key='motion')"
   ]
  },
  {
   "cell_type": "markdown",
   "metadata": {
    "id": "iCSwzGucr3Ob"
   },
   "source": [
    "This is convenient if you want to apply several different processes on the same input video."
   ]
  },
  {
   "cell_type": "markdown",
   "metadata": {
    "id": "Xy1XYU2Jr3Oc"
   },
   "source": [
    "The Musical Gestures Toolbox also offers an alternative workflow in case you want to apply a proccess on the result of a previous process. Although `show()` is not really a process (ie. it does not yield a file as a result) it can provide a good example of the use of chaining:"
   ]
  },
  {
   "cell_type": "code",
   "execution_count": null,
   "metadata": {
    "colab": {
     "base_uri": "https://localhost:8080/",
     "height": 571
    },
    "executionInfo": {
     "elapsed": 7511,
     "status": "ok",
     "timestamp": 1696408777521,
     "user": {
      "displayName": "Joachim Poutaraud",
      "userId": "07157632167712239236"
     },
     "user_tz": -120
    },
    "id": "w1RNZOpsr3Oc",
    "outputId": "393f146b-4cb2-4e7a-f6bd-530581a40453"
   },
   "outputs": [],
   "source": [
    "# this...\n",
    "video.motion().show(mode=\"notebook\")"
   ]
  },
  {
   "cell_type": "code",
   "execution_count": null,
   "metadata": {
    "colab": {
     "base_uri": "https://localhost:8080/",
     "height": 536
    },
    "executionInfo": {
     "elapsed": 4956,
     "status": "ok",
     "timestamp": 1696408785210,
     "user": {
      "displayName": "Joachim Poutaraud",
      "userId": "07157632167712239236"
     },
     "user_tz": -120
    },
    "id": "oj6A3oxFr3Oc",
    "outputId": "37c2f297-7393-4a41-e466-528d2b8e8e08"
   },
   "outputs": [],
   "source": [
    "# ...is the equivalent of this!\n",
    "video.motion()\n",
    "video.show(mode=\"notebook\", key='motion')"
   ]
  },
  {
   "cell_type": "markdown",
   "metadata": {
    "id": "-vG-T4Vqr3Oc"
   },
   "source": [
    "It also works with images:"
   ]
  },
  {
   "cell_type": "code",
   "execution_count": null,
   "metadata": {
    "colab": {
     "base_uri": "https://localhost:8080/",
     "height": 548
    },
    "executionInfo": {
     "elapsed": 1335,
     "status": "ok",
     "timestamp": 1696408789394,
     "user": {
      "displayName": "Joachim Poutaraud",
      "userId": "07157632167712239236"
     },
     "user_tz": -120
    },
    "id": "lHmblnOer3Oc",
    "outputId": "62252242-63dc-4a51-e876-9f3c00d8f680"
   },
   "outputs": [],
   "source": [
    "video.blend(component_mode='average').show(mode=\"notebook\")"
   ]
  },
  {
   "cell_type": "markdown",
   "metadata": {
    "id": "dR6GlRikr3Oc"
   },
   "source": [
    "But chaining can go further than this. How about reading (and preprocessing) a video, rendering its motion video, the motion history and the average of the motion history, with showing the *_motion_history_average.png* at the end - all as a one-liner?!"
   ]
  },
  {
   "cell_type": "code",
   "execution_count": null,
   "metadata": {
    "colab": {
     "base_uri": "https://localhost:8080/",
     "height": 618
    },
    "executionInfo": {
     "elapsed": 34194,
     "status": "ok",
     "timestamp": 1696408829887,
     "user": {
      "displayName": "Joachim Poutaraud",
      "userId": "07157632167712239236"
     },
     "user_tz": -120
    },
    "id": "B8Q9Jjx0r3Od",
    "outputId": "d54dca29-67c3-41f8-a798-b60a8fe7a85f"
   },
   "outputs": [],
   "source": [
    "mg.MgVideo(dance, skip=4, crop='auto').motion().history().blend(component_mode='average').show(mode='notebook')"
   ]
  },
  {
   "cell_type": "code",
   "execution_count": null,
   "metadata": {
    "colab": {
     "base_uri": "https://localhost:8080/"
    },
    "id": "WL3qjBzsr3Od",
    "outputId": "41be56eb-1e1d-4c14-f681-beef869ebbeb"
   },
   "outputs": [],
   "source": [
    "# equivalent without chaining\n",
    "video = mg.MgVideo(dance, skip=4, crop='auto')\n",
    "mm = video.motion()\n",
    "mh = mm.history()\n",
    "mh.blend(component_mode='average')\n",
    "mh.show(mode=\"notebook\", key='average')"
   ]
  },
  {
   "cell_type": "markdown",
   "metadata": {
    "id": "p74kLG6zr3Od"
   },
   "source": [
    "Some other examples:"
   ]
  },
  {
   "cell_type": "code",
   "execution_count": null,
   "metadata": {
    "colab": {
     "base_uri": "https://localhost:8080/",
     "height": 588
    },
    "executionInfo": {
     "elapsed": 27352,
     "status": "ok",
     "timestamp": 1696408996113,
     "user": {
      "displayName": "Joachim Poutaraud",
      "userId": "07157632167712239236"
     },
     "user_tz": -120
    },
    "id": "J4-HbZEKr3Od",
    "outputId": "7cfaa34c-698c-4e98-bc4d-9df20c4a54c7"
   },
   "outputs": [],
   "source": [
    "# rendering and viewing the motion video\n",
    "mg.MgVideo(dance, skip=4).motion().show(mode='notebook')"
   ]
  },
  {
   "cell_type": "code",
   "execution_count": null,
   "metadata": {
    "colab": {
     "base_uri": "https://localhost:8080/"
    },
    "id": "S8zQ8H-mr3Od",
    "outputId": "37199656-eb52-44db-f498-8ed51bc70ec6"
   },
   "outputs": [],
   "source": [
    "# rendering the motion video, the motion history video, and viewing the latter\n",
    "mg.MgVideo(dance, skip=3).motion().history(normalize=True).show(mode='notebook')"
   ]
  },
  {
   "cell_type": "code",
   "execution_count": null,
   "metadata": {
    "id": "1OKRoqgYr3Od"
   },
   "outputs": [],
   "source": [
    "# rendering the motion video, the motion average image, and viewing the latter\n",
    "mg.MgVideo(dance, skip=15).motion().blend(component_mode='average').show(mode='notebook')"
   ]
  },
  {
   "cell_type": "markdown",
   "metadata": {
    "id": "WGv9gEoSr3Oe"
   },
   "source": [
    "## Summing up"
   ]
  },
  {
   "cell_type": "markdown",
   "metadata": {
    "id": "tlCm9TQYr3Oe"
   },
   "source": [
    "Questions or comments?\n",
    "\n",
    "- [Wiki](https://github.com/fourMs/MGT-python/wiki)\n",
    "- [Issues](https://github.com/fourMs/MGT-python/issues)"
   ]
  }
 ],
 "metadata": {
  "celltoolbar": "Slideshow",
  "colab": {
   "provenance": []
  },
  "kernelspec": {
   "display_name": "Python 3 (ipykernel)",
   "language": "python",
   "name": "python3"
  },
  "language_info": {
   "codemirror_mode": {
    "name": "ipython",
    "version": 3
   },
   "file_extension": ".py",
   "mimetype": "text/x-python",
   "name": "python",
   "nbconvert_exporter": "python",
   "pygments_lexer": "ipython3",
   "version": "3.9.7"
  }
 },
 "nbformat": 4,
 "nbformat_minor": 1
}
